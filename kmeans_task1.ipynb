{
  "nbformat": 4,
  "nbformat_minor": 0,
  "metadata": {
    "colab": {
      "provenance": []
    },
    "kernelspec": {
      "name": "python3",
      "display_name": "Python 3"
    },
    "language_info": {
      "name": "python"
    }
  },
  "cells": [
    {
      "cell_type": "code",
      "execution_count": 17,
      "metadata": {
        "id": "VqkAnM0A4pRD"
      },
      "outputs": [],
      "source": [
        "import numpy as np\n",
        "import pandas as pd\n",
        "from sklearn.metrics import multilabel_confusion_matrix\n",
        "import scipy \n",
        "from scipy import spatial\n",
        "import sklearn\n",
        "from collections import Counter\n"
      ]
    },
    {
      "cell_type": "code",
      "source": [
        "data = pd.read_csv('/content/drive/MyDrive/Colab Notebooks/data.csv')\n",
        "labels = pd.read_csv('/content/drive/MyDrive/Colab Notebooks/label.csv', header = None, names =['label'])\n",
        "\n",
        "from sklearn.model_selection import train_test_split\n",
        "train_data, test_data = train_test_split( data, test_size=0.20, random_state=45)\n",
        "train_labels, test_labels = train_test_split( labels, test_size=0.20, random_state=45)"
      ],
      "metadata": {
        "id": "cjeEvvBb4v3M"
      },
      "execution_count": 18,
      "outputs": []
    },
    {
      "cell_type": "code",
      "source": [
        "class K_means:   \n",
        "    \n",
        "    def get_centroids(self,data,k):\n",
        "        s = data.shape[0]\n",
        "        centroid_d={}\n",
        "        for i in range(k):\n",
        "            r = np.random.randint(0, s-1)\n",
        "            centroid_d[i] = data.iloc[r]\n",
        "        return centroid_d\n",
        "    \n",
        "    def jaccard_similarity(self,centroid, dp):\n",
        "        intersection = len(list(set(centroid).intersection(dp)))\n",
        "        union = (len(set(centroid)) + len(set(dp))) - intersection\n",
        "        return float(intersection) / union\n",
        "\n",
        "    def SSE(self, centroid_d, centroids ,data):\n",
        "        sse = 0\n",
        "        for i in centroids:\n",
        "            sse_cluster = 0\n",
        "            for j in centroids[i]:\n",
        "                dp = list(data.iloc[int(j)])\n",
        "                for a,b in zip(centroid_d[i],dp):\n",
        "                    sse_cluster = sse_cluster + (a-b)**2\n",
        "            sse = sse + sse_cluster\n",
        "        return sse\n",
        "\n",
        "    def kmeans_clustering(self,data,k,max_i=20,cat='E',tol=15):\n",
        "        centroid_d = self.get_centroids(data,k)\n",
        "        centroids = {}\n",
        "        count = 0\n",
        "        cen_list = list(centroid_d.keys())\n",
        "        con = False\n",
        "        while((count<max_i) and not con):\n",
        "            for i in cen_list:\n",
        "                centroids[i] = []\n",
        "            for i in range(data.shape[0]):\n",
        "                p = data.iloc[i]\n",
        "                if cat == 'E' :\n",
        "                    distance = [np.linalg.norm(p-centroid_d[j])  for j in centroid_d]\n",
        "                    index = np.argmin(distance)\n",
        "                    centroids[index].append(i)\n",
        "                elif cat == 'J' :\n",
        "                    sim = [self.jaccard_similarity(list(p),centroid_d[j]) for j in centroid_d]\n",
        "                    index = np.argmax(sim)\n",
        "                    centroids[index].append(i)\n",
        "                elif cat == 'C' :\n",
        "                    sim = [1-scipy.spatial.distance.cosine(p,list(centroid_d[j]))  for j in centroid_d]\n",
        "                    index = np.argmax(sim)\n",
        "                    centroids[index].append(i)\n",
        "                prev_centroids=dict(centroid_d)\n",
        "      \n",
        "            for i in centroids:\n",
        "                if len(centroids[i]):\n",
        "                    dps_centroid = centroids[i]\n",
        "                    centroid_d[i] = np.average(data.iloc[dps_centroid],axis=0)\n",
        "            \n",
        "            tolerance = -1\n",
        "            for i in centroid_d:\n",
        "                previous_centroid = prev_centroids[i]\n",
        "                new_centroid = centroid_d[i]\n",
        "                change = np.sum(np.absolute(new_centroid - previous_centroid))\n",
        "                tolerance = max(change, tolerance)\n",
        "                \n",
        "            print(\"Tolerance for the Iteration \",count,\": \",tolerance)\n",
        "            count = count +1\n",
        "            if (tolerance < 10):\n",
        "                con = True\n",
        "                break\n",
        "      \n",
        "        return centroid_d,centroids\n",
        "    "
      ],
      "metadata": {
        "id": "Ffo9Hoic4y_S"
      },
      "execution_count": 19,
      "outputs": []
    },
    {
      "cell_type": "code",
      "source": [
        "def predict_cluster_labels(C, S, labels):\n",
        "    cluster_labels = np.zeros(10,dtype=int)\n",
        "    for c in C:\n",
        "        labels_of_points = []\n",
        "        for point in S[c]:\n",
        "            labels_of_points.extend(labels.iloc[point])\n",
        "        counter = Counter(labels_of_points)\n",
        "        try:\n",
        "            cluster_labels[c] = max(counter, key=counter.get)\n",
        "        except:\n",
        "            cluster_labels[c] = np.random.randint(0,9)\n",
        "    return cluster_labels"
      ],
      "metadata": {
        "id": "lfgE_yQL41JK"
      },
      "execution_count": 20,
      "outputs": []
    },
    {
      "cell_type": "code",
      "source": [
        "def jaccard_similarity(centroid, dp):\n",
        "        intersection = len(list(set(centroid).intersection(dp)))\n",
        "        union = (len(set(centroid)) + len(set(dp))) - intersection\n",
        "        return float(intersection) / union"
      ],
      "metadata": {
        "id": "rCWFBIve433o"
      },
      "execution_count": 21,
      "outputs": []
    },
    {
      "cell_type": "code",
      "source": [
        "def accuracy(centroids, centroid_Labels, test_data, true_labels, cat = 'E'):\n",
        "    y_real = list(true_labels['label']);\n",
        "    y_pred = []\n",
        "    for index in range(test_data.shape[0]):\n",
        "        featureset = test_data.iloc[index]\n",
        "        if cat == 'E':\n",
        "            distances = [np.linalg.norm(featureset - centroids[centroid]) for centroid in centroids]\n",
        "            c = distances.index(min(distances))\n",
        "            y_pred.append(centroid_Labels[c])\n",
        "        elif cat == 'J':\n",
        "            similarity = [jaccard_similarity(featureset, centroids[centroid]) for centroid in centroids]\n",
        "            c = similarity.index(max(similarity))\n",
        "            y_pred.append(centroid_Labels[c]) \n",
        "        elif cat == 'C':\n",
        "            similarity = [1 - spatial.distance.cosine(featureset, centroids[centroid]) for centroid in centroids]\n",
        "            c = similarity.index(max(similarity))\n",
        "            y_pred.append(centroid_Labels[c])\n",
        "    x = test_data.shape[0]\n",
        "    correctly_classified = 0\n",
        "    for i in range(0,len(y_pred)):\n",
        "        if y_real[i] == y_pred[i]:\n",
        "            correctly_classified = correctly_classified + 1\n",
        "    accuracy = correctly_classified/x\n",
        "    return accuracy"
      ],
      "metadata": {
        "id": "X3IxKwNl47E3"
      },
      "execution_count": 22,
      "outputs": []
    },
    {
      "cell_type": "code",
      "source": [
        "euclidean_model = K_means()\n",
        "centroids_e,clusters_e = euclidean_model.kmeans_clustering(data,10, max_i = 100,cat ='E')"
      ],
      "metadata": {
        "colab": {
          "base_uri": "https://localhost:8080/"
        },
        "id": "6ibwz8OD49NM",
        "outputId": "ef810964-a844-44cb-a2b6-81e96fa2b652"
      },
      "execution_count": 23,
      "outputs": [
        {
          "output_type": "stream",
          "name": "stdout",
          "text": [
            "Tolerance for the Iteration  0 :  26238.460035523978\n",
            "Tolerance for the Iteration  1 :  6148.730251646768\n",
            "Tolerance for the Iteration  2 :  3070.096059260837\n",
            "Tolerance for the Iteration  3 :  1930.4717539401506\n",
            "Tolerance for the Iteration  4 :  1393.6363163689748\n",
            "Tolerance for the Iteration  5 :  1407.4343744159344\n",
            "Tolerance for the Iteration  6 :  1763.7872835875198\n",
            "Tolerance for the Iteration  7 :  1518.992776967112\n",
            "Tolerance for the Iteration  8 :  1253.8067343684243\n",
            "Tolerance for the Iteration  9 :  895.5261024607411\n",
            "Tolerance for the Iteration  10 :  856.2961561356065\n",
            "Tolerance for the Iteration  11 :  872.4218401710948\n",
            "Tolerance for the Iteration  12 :  1119.551785909638\n",
            "Tolerance for the Iteration  13 :  1378.5085941170037\n",
            "Tolerance for the Iteration  14 :  1691.2000939183101\n",
            "Tolerance for the Iteration  15 :  1939.5481830125382\n",
            "Tolerance for the Iteration  16 :  1718.53830592158\n",
            "Tolerance for the Iteration  17 :  1251.6445814427566\n",
            "Tolerance for the Iteration  18 :  827.9913354960802\n",
            "Tolerance for the Iteration  19 :  671.34026688773\n",
            "Tolerance for the Iteration  20 :  599.0263150869605\n",
            "Tolerance for the Iteration  21 :  570.3687252151024\n",
            "Tolerance for the Iteration  23 :  652.5920244091437\n",
            "Tolerance for the Iteration  24 :  567.1098141788588\n",
            "Tolerance for the Iteration  25 :  584.2515583023317\n",
            "Tolerance for the Iteration  26 :  544.5155614631025\n",
            "Tolerance for the Iteration  27 :  487.07623873873865\n",
            "Tolerance for the Iteration  28 :  538.5302802226852\n",
            "Tolerance for the Iteration  29 :  479.624703962249\n",
            "Tolerance for the Iteration  30 :  414.69412833274964\n",
            "Tolerance for the Iteration  31 :  490.5327155898058\n",
            "Tolerance for the Iteration  32 :  456.4012173178112\n",
            "Tolerance for the Iteration  33 :  530.9539031067927\n",
            "Tolerance for the Iteration  34 :  373.94137931034476\n",
            "Tolerance for the Iteration  35 :  403.090038083565\n",
            "Tolerance for the Iteration  36 :  333.57524025968297\n",
            "Tolerance for the Iteration  37 :  370.5830464677131\n",
            "Tolerance for the Iteration  38 :  257.3035799893161\n",
            "Tolerance for the Iteration  39 :  176.04662005728557\n",
            "Tolerance for the Iteration  40 :  169.8384308571745\n",
            "Tolerance for the Iteration  41 :  153.88706883618147\n",
            "Tolerance for the Iteration  42 :  138.9515806861386\n",
            "Tolerance for the Iteration  43 :  129.64747302668945\n",
            "Tolerance for the Iteration  44 :  89.95589802130877\n",
            "Tolerance for the Iteration  45 :  63.91601099234107\n",
            "Tolerance for the Iteration  46 :  112.6154152543698\n",
            "Tolerance for the Iteration  47 :  101.29862186848987\n",
            "Tolerance for the Iteration  48 :  89.87149899875173\n",
            "Tolerance for the Iteration  49 :  114.35039107829114\n",
            "Tolerance for the Iteration  50 :  94.5754211006385\n",
            "Tolerance for the Iteration  51 :  85.06090050300594\n",
            "Tolerance for the Iteration  52 :  69.76623248647286\n",
            "Tolerance for the Iteration  53 :  66.45315831259305\n",
            "Tolerance for the Iteration  54 :  41.15591589781877\n",
            "Tolerance for the Iteration  55 :  25.070815675881533\n",
            "Tolerance for the Iteration  56 :  28.461947941389248\n",
            "Tolerance for the Iteration  57 :  29.71798816568065\n",
            "Tolerance for the Iteration  58 :  35.136139801773425\n",
            "Tolerance for the Iteration  59 :  26.830869153905212\n",
            "Tolerance for the Iteration  60 :  0.0\n"
          ]
        }
      ]
    },
    {
      "cell_type": "code",
      "source": [
        "Euclidean_SSE = euclidean_model.SSE(centroids_e,clusters_e,data)\n",
        "print('SSE for euclidean kmeans model is: ',Euclidean_SSE)"
      ],
      "metadata": {
        "id": "ey4iNPZp4_wV",
        "colab": {
          "base_uri": "https://localhost:8080/"
        },
        "outputId": "41aed896-c3f1-434b-b4d4-ad4f3050d241"
      },
      "execution_count": 24,
      "outputs": [
        {
          "output_type": "stream",
          "name": "stdout",
          "text": [
            "SSE for euclidean kmeans model is:  25498995227.148094\n"
          ]
        }
      ]
    },
    {
      "cell_type": "code",
      "source": [
        "cluster_labels_e = predict_cluster_labels(centroids_e,clusters_e,labels)\n",
        "Euclidean_Accuracy = accuracy(centroids_e, cluster_labels_e,test_data,test_labels)\n",
        "print('accuracy of euclidean kmeans model is : ',Euclidean_Accuracy)"
      ],
      "metadata": {
        "colab": {
          "base_uri": "https://localhost:8080/"
        },
        "id": "dlKZdv0l5B73",
        "outputId": "b6092e41-bf5b-45a6-b25d-9c0d6795e172"
      },
      "execution_count": 25,
      "outputs": [
        {
          "output_type": "stream",
          "name": "stdout",
          "text": [
            "accuracy of euclidean kmeans model is :  0.094\n"
          ]
        }
      ]
    },
    {
      "cell_type": "code",
      "source": [
        "cosine_model = K_means()\n",
        "centroids_cos,clusters_cos = cosine_model.kmeans_clustering(data,10, max_i=100,cat = 'C')"
      ],
      "metadata": {
        "colab": {
          "base_uri": "https://localhost:8080/"
        },
        "id": "rZZtpTA2M00l",
        "outputId": "35b89b47-d013-4928-f35b-44d13ca2c0c1"
      },
      "execution_count": 26,
      "outputs": [
        {
          "output_type": "stream",
          "name": "stdout",
          "text": [
            "Tolerance for the Iteration  0 :  27955.27397260274\n",
            "Tolerance for the Iteration  1 :  3720.527741406293\n",
            "Tolerance for the Iteration  2 :  3743.0370047842875\n",
            "Tolerance for the Iteration  3 :  3057.001114146061\n",
            "Tolerance for the Iteration  4 :  1971.9081526070472\n",
            "Tolerance for the Iteration  5 :  1172.5276087228413\n",
            "Tolerance for the Iteration  6 :  1175.27803248838\n",
            "Tolerance for the Iteration  7 :  1355.5718814521763\n",
            "Tolerance for the Iteration  8 :  1334.4869276892573\n",
            "Tolerance for the Iteration  9 :  1255.1812076722708\n",
            "Tolerance for the Iteration  10 :  965.8345205628888\n",
            "Tolerance for the Iteration  11 :  783.250677516633\n",
            "Tolerance for the Iteration  12 :  677.0044544276327\n",
            "Tolerance for the Iteration  13 :  446.2750071619556\n",
            "Tolerance for the Iteration  14 :  608.0821383477632\n",
            "Tolerance for the Iteration  15 :  783.6866125327665\n",
            "Tolerance for the Iteration  16 :  1004.0822918601464\n",
            "Tolerance for the Iteration  17 :  825.9002557714666\n",
            "Tolerance for the Iteration  18 :  944.8231805756552\n",
            "Tolerance for the Iteration  19 :  1144.0573398162533\n",
            "Tolerance for the Iteration  20 :  1246.3176385396441\n",
            "Tolerance for the Iteration  21 :  1147.2010868715915\n",
            "Tolerance for the Iteration  22 :  997.0886415076046\n",
            "Tolerance for the Iteration  23 :  930.5606617018593\n",
            "Tolerance for the Iteration  24 :  804.7579652033531\n",
            "Tolerance for the Iteration  25 :  872.0798931853005\n",
            "Tolerance for the Iteration  26 :  856.0717368382643\n",
            "Tolerance for the Iteration  27 :  822.7958274971944\n",
            "Tolerance for the Iteration  28 :  669.7110847591314\n",
            "Tolerance for the Iteration  29 :  487.88800827376747\n",
            "Tolerance for the Iteration  30 :  288.13837095958695\n",
            "Tolerance for the Iteration  31 :  228.74680161594324\n",
            "Tolerance for the Iteration  32 :  239.76619501586242\n",
            "Tolerance for the Iteration  33 :  232.7726849437529\n",
            "Tolerance for the Iteration  34 :  202.27997570385406\n",
            "Tolerance for the Iteration  35 :  191.35606936416207\n",
            "Tolerance for the Iteration  36 :  194.27148138190603\n",
            "Tolerance for the Iteration  37 :  144.96865898717692\n",
            "Tolerance for the Iteration  38 :  116.51956386441961\n",
            "Tolerance for the Iteration  39 :  112.29726867246453\n",
            "Tolerance for the Iteration  40 :  79.89548380208649\n",
            "Tolerance for the Iteration  41 :  101.00638922799857\n",
            "Tolerance for the Iteration  42 :  91.39055582044804\n",
            "Tolerance for the Iteration  43 :  92.90703971119137\n",
            "Tolerance for the Iteration  44 :  102.78119851696368\n",
            "Tolerance for the Iteration  45 :  69.12040694902788\n",
            "Tolerance for the Iteration  46 :  94.5079226396971\n",
            "Tolerance for the Iteration  47 :  49.20308250226641\n",
            "Tolerance for the Iteration  48 :  23.799637352674424\n",
            "Tolerance for the Iteration  49 :  45.3841837578162\n",
            "Tolerance for the Iteration  50 :  43.77224669603537\n",
            "Tolerance for the Iteration  51 :  59.37915702718355\n",
            "Tolerance for the Iteration  52 :  67.92926610749223\n",
            "Tolerance for the Iteration  53 :  57.14526705472127\n",
            "Tolerance for the Iteration  54 :  44.22580575275818\n",
            "Tolerance for the Iteration  55 :  34.16460456089281\n",
            "Tolerance for the Iteration  56 :  39.95525731196683\n",
            "Tolerance for the Iteration  57 :  37.07791017415213\n",
            "Tolerance for the Iteration  58 :  60.322081745713106\n",
            "Tolerance for the Iteration  59 :  34.60857173204937\n",
            "Tolerance for the Iteration  60 :  46.05710962442426\n",
            "Tolerance for the Iteration  61 :  33.05413555348134\n",
            "Tolerance for the Iteration  62 :  30.464375671816526\n",
            "Tolerance for the Iteration  63 :  25.33971832117803\n",
            "Tolerance for the Iteration  64 :  0.0\n"
          ]
        }
      ]
    },
    {
      "cell_type": "code",
      "source": [
        "cosine_SSE = cosine_model.SSE(centroids_cos,clusters_cos,data)\n",
        "print('SSE for cosine kmeans model is: ',cosine_SSE)"
      ],
      "metadata": {
        "colab": {
          "base_uri": "https://localhost:8080/"
        },
        "id": "WExa7ybcGNY7",
        "outputId": "2b1fd3a3-8009-4b24-f6eb-ab74712d1d0b"
      },
      "execution_count": 29,
      "outputs": [
        {
          "output_type": "stream",
          "name": "stdout",
          "text": [
            "SSE for cosine kmeans model is:  25422194579.297318\n"
          ]
        }
      ]
    },
    {
      "cell_type": "code",
      "source": [
        "cluster_labels_cos = predict_cluster_labels(centroids_cos,clusters_cos,labels)\n",
        "Cosine_Accuracy = accuracy(centroids_cos, cluster_labels_cos,test_data,test_labels)\n",
        "print('accuracy of cosine kmeans model is : ',Cosine_Accuracy)"
      ],
      "metadata": {
        "colab": {
          "base_uri": "https://localhost:8080/"
        },
        "id": "e3N2mEyJGUFz",
        "outputId": "fc763b2b-c3eb-4521-ca90-d54971d90f5f"
      },
      "execution_count": 31,
      "outputs": [
        {
          "output_type": "stream",
          "name": "stdout",
          "text": [
            "accuracy of cosine kmeans model is :  0.106\n"
          ]
        }
      ]
    },
    {
      "cell_type": "code",
      "source": [
        "jaccard_model = K_means()\n",
        "centroids_j,clusters_j = jaccard_model.kmeans_clustering(data,10, max_i=100,cat = 'J')"
      ],
      "metadata": {
        "colab": {
          "base_uri": "https://localhost:8080/"
        },
        "id": "ODPa6TbhGcXf",
        "outputId": "cf3833de-b1bb-47c5-9593-04521b6195c2"
      },
      "execution_count": 38,
      "outputs": [
        {
          "output_type": "stream",
          "name": "stdout",
          "text": [
            "Tolerance for the Iteration  0 :  34996.33285468122\n",
            "Tolerance for the Iteration  1 :  10509.357789126905\n",
            "Tolerance for the Iteration  2 :  4981.976533834232\n",
            "Tolerance for the Iteration  3 :  1479.6478193872017\n",
            "Tolerance for the Iteration  4 :  1403.476122140516\n",
            "Tolerance for the Iteration  5 :  1477.744997896016\n",
            "Tolerance for the Iteration  6 :  741.6138816193759\n",
            "Tolerance for the Iteration  7 :  1272.7584416703476\n",
            "Tolerance for the Iteration  8 :  1009.3705836100851\n",
            "Tolerance for the Iteration  9 :  850.0669581995794\n",
            "Tolerance for the Iteration  10 :  1662.1532372364177\n",
            "Tolerance for the Iteration  11 :  351.6606701105569\n",
            "Tolerance for the Iteration  12 :  256.61452299076063\n",
            "Tolerance for the Iteration  13 :  0.0\n"
          ]
        }
      ]
    },
    {
      "cell_type": "code",
      "source": [
        "jaccard_SSE = jaccard_model.SSE(centroids_j,clusters_j,data)\n",
        "print('SSE for jaccard kmeans model is: ',jaccard_SSE)"
      ],
      "metadata": {
        "colab": {
          "base_uri": "https://localhost:8080/"
        },
        "id": "VpJV1QImGgPA",
        "outputId": "9f1a0179-0f7a-4397-b10d-a3c3c8fbb72a"
      },
      "execution_count": 39,
      "outputs": [
        {
          "output_type": "stream",
          "name": "stdout",
          "text": [
            "SSE for jaccard kmeans model is:  34361687572.938736\n"
          ]
        }
      ]
    },
    {
      "cell_type": "code",
      "source": [
        "cluster_labels_j = predict_cluster_labels(centroids_j,clusters_j,labels)\n",
        "Jaccard_Accuracy = accuracy(centroids_j, cluster_labels_j,test_data,test_labels)\n",
        "print('accuracy of jaccard kmeans model is : ',Jaccard_Accuracy)"
      ],
      "metadata": {
        "colab": {
          "base_uri": "https://localhost:8080/"
        },
        "id": "J76hvmHoGkAC",
        "outputId": "36f73e1e-1691-43b1-dc91-2c093111444d"
      },
      "execution_count": 41,
      "outputs": [
        {
          "output_type": "stream",
          "name": "stdout",
          "text": [
            "accuracy of jaccard kmeans model is :  0.1165\n"
          ]
        }
      ]
    }
  ]
}